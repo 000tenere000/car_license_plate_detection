{
 "cells": [
  {
   "cell_type": "code",
   "execution_count": 1,
   "metadata": {},
   "outputs": [],
   "source": [
    "from ultralytics import YOLO"
   ]
  },
  {
   "cell_type": "code",
   "execution_count": 2,
   "metadata": {},
   "outputs": [],
   "source": [
    "model = YOLO(\"best (1).pt\")"
   ]
  },
  {
   "cell_type": "code",
   "execution_count": 6,
   "metadata": {},
   "outputs": [
    {
     "name": "stderr",
     "output_type": "stream",
     "text": [
      "\n",
      "image 1/1 d:\\codes\\deep_lerarning_projects\\plate_recegnotion\\1.jpg: 384x640 2 License_Plates, 182.5ms\n",
      "Speed: 2.0ms preprocess, 182.5ms inference, 4.0ms postprocess per image at shape (1, 3, 384, 640)\n",
      "Results saved to \u001b[1mruns\\detect\\predict2\u001b[0m\n"
     ]
    },
    {
     "data": {
      "text/plain": [
       "[ultralytics.engine.results.Results object with attributes:\n",
       " \n",
       " boxes: ultralytics.engine.results.Boxes object\n",
       " keypoints: None\n",
       " keys: ['boxes']\n",
       " masks: None\n",
       " names: {0: 'License_Plate'}\n",
       " orig_img: array([[[190, 160, 131],\n",
       "         [192, 162, 133],\n",
       "         [196, 166, 137],\n",
       "         ...,\n",
       "         [111, 151, 150],\n",
       "         [ 72, 112, 111],\n",
       "         [ 54,  94,  93]],\n",
       " \n",
       "        [[187, 157, 128],\n",
       "         [189, 159, 130],\n",
       "         [192, 162, 133],\n",
       "         ...,\n",
       "         [ 85, 125, 124],\n",
       "         [ 58,  98,  97],\n",
       "         [ 48,  88,  87]],\n",
       " \n",
       "        [[187, 157, 130],\n",
       "         [188, 158, 131],\n",
       "         [189, 159, 132],\n",
       "         ...,\n",
       "         [ 54,  94,  92],\n",
       "         [ 43,  83,  81],\n",
       "         [ 43,  83,  81]],\n",
       " \n",
       "        ...,\n",
       " \n",
       "        [[194, 199, 202],\n",
       "         [193, 198, 199],\n",
       "         [191, 196, 199],\n",
       "         ...,\n",
       "         [176, 173, 169],\n",
       "         [173, 170, 166],\n",
       "         [172, 169, 165]],\n",
       " \n",
       "        [[195, 199, 200],\n",
       "         [197, 202, 201],\n",
       "         [197, 201, 202],\n",
       "         ...,\n",
       "         [170, 167, 163],\n",
       "         [167, 164, 160],\n",
       "         [167, 164, 160]],\n",
       " \n",
       "        [[193, 198, 197],\n",
       "         [195, 200, 199],\n",
       "         [196, 201, 200],\n",
       "         ...,\n",
       "         [170, 167, 163],\n",
       "         [167, 164, 160],\n",
       "         [167, 164, 160]]], dtype=uint8)\n",
       " orig_shape: (450, 760)\n",
       " path: 'd:\\\\codes\\\\deep_lerarning_projects\\\\plate_recegnotion\\\\1.jpg'\n",
       " probs: None\n",
       " save_dir: 'runs\\\\detect\\\\predict2'\n",
       " speed: {'preprocess': 1.9946098327636719, 'inference': 182.51490592956543, 'postprocess': 3.9887428283691406}]"
      ]
     },
     "execution_count": 6,
     "metadata": {},
     "output_type": "execute_result"
    }
   ],
   "source": [
    "model.predict(\"1.jpg\",save=True)\n"
   ]
  },
  {
   "cell_type": "code",
   "execution_count": null,
   "metadata": {},
   "outputs": [],
   "source": []
  }
 ],
 "metadata": {
  "kernelspec": {
   "display_name": "Python 3",
   "language": "python",
   "name": "python3"
  },
  "language_info": {
   "codemirror_mode": {
    "name": "ipython",
    "version": 3
   },
   "file_extension": ".py",
   "mimetype": "text/x-python",
   "name": "python",
   "nbconvert_exporter": "python",
   "pygments_lexer": "ipython3",
   "version": "3.11.2"
  },
  "orig_nbformat": 4
 },
 "nbformat": 4,
 "nbformat_minor": 2
}
